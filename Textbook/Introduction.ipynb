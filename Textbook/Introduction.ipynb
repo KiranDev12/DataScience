{
 "cells": [
  {
   "attachments": {},
   "cell_type": "markdown",
   "metadata": {},
   "source": [
    "# DataSciencester\n",
    "* It is a social media platform, where the info about users and their friendship pairs is given.\n",
    "* Half way around we make a list of tuple of the form [(id, number of friends)]"
   ]
  },
  {
   "cell_type": "code",
   "execution_count": 1,
   "metadata": {},
   "outputs": [],
   "source": [
    "# LIST OF DICTIONARIES\n",
    "users = [\n",
    " { \"id\": 0, \"name\": \"Hero\" },\n",
    " { \"id\": 1, \"name\": \"Dunn\" },\n",
    " { \"id\": 2, \"name\": \"Sue\" },\n",
    " { \"id\": 3, \"name\": \"Chi\" },\n",
    " { \"id\": 4, \"name\": \"Thor\" },\n",
    " { \"id\": 5, \"name\": \"Clive\" },\n",
    " { \"id\": 6, \"name\": \"Hicks\" },\n",
    " { \"id\": 7, \"name\": \"Devin\" },\n",
    " { \"id\": 8, \"name\": \"Kate\" },\n",
    " { \"id\": 9, \"name\": \"Klein\" }\n",
    "]\n",
    "\n",
    "# LIST OF TUPLES\n",
    "friendship_pairs = [(0, 1), (0, 2), (1, 2), (1, 3), (2, 3), (3, 4),\n",
    " (4, 5), (5, 6), (5, 7), (6, 8), (7, 8), (8, 9)]"
   ]
  },
  {
   "cell_type": "code",
   "execution_count": null,
   "metadata": {},
   "outputs": [],
   "source": [
    "#Initialize the dict with an empty list for each user id:\n",
    "friendships = {user[\"id\"]: [] for user in users}\n",
    "\n",
    "# And loop over the friendship pairs to populate it:\n",
    "for i, j in friendship_pairs:\n",
    " friendships[i].append(j) # Add j as a friend of user i\n",
    " friendships[j].append(i) # Add i as a friend of user j"
   ]
  },
  {
   "attachments": {},
   "cell_type": "markdown",
   "metadata": {},
   "source": [
    "**{0: [], 1: [], 2: [], 3: [], 4: [], 5: [], 6: [], 7: [], 8: [], 9: []}** <br>\n",
    "This is what is created from the above cell's first step <br>\n",
    "**{0: [1, 2], 1: [0, 2, 3], 2: [0, 1, 3], 3: [1, 2, 4], 4: [3, 5], 5: [4, 6, 7], 6: [5, 8], 7: [5, 8], 8: [6, 7, 9], 9: [8]}** <br>\n",
    "For the for loop run it adds the friends of each id in the form of a list associated with each id <br>\n"
   ]
  },
  {
   "cell_type": "code",
   "execution_count": 16,
   "metadata": {},
   "outputs": [
    {
     "name": "stdout",
     "output_type": "stream",
     "text": [
      "[2, 3, 3, 3, 2, 3, 2, 2, 3, 1]\n"
     ]
    }
   ],
   "source": [
    "def number_of_friends(user):\n",
    " user_id = user[\"id\"]\n",
    " friend_ids = friendships[user_id]\n",
    " return len(friend_ids)\n",
    "\n",
    "# print(list(number_of_friends(user) for user in users)) # PYTHON IS CRAZY\n",
    "\n",
    "total_connections = sum(number_of_friends(user) \n",
    "                        for user in users)"
   ]
  },
  {
   "cell_type": "code",
   "execution_count": 7,
   "metadata": {},
   "outputs": [],
   "source": [
    "num_users = len(users) # length of the users list\n",
    "avg_connections = total_connections / num_users # 24 / 10 == 2.4"
   ]
  },
  {
   "cell_type": "code",
   "execution_count": 18,
   "metadata": {},
   "outputs": [
    {
     "name": "stdout",
     "output_type": "stream",
     "text": [
      "[(1, 3), (2, 3), (3, 3), (5, 3), (8, 3), (0, 2), (4, 2), (6, 2), (7, 2), (9, 1)]\n"
     ]
    }
   ],
   "source": [
    "# Create a list (user_id, number_of_friends).\n",
    "num_friends_by_id = [(user[\"id\"], number_of_friends(user)) for user in users]\n",
    "num_friends_by_id.sort(key=lambda id_and_friends: id_and_friends[1], reverse=True) \n",
    "\n",
    "print(num_friends_by_id) \n",
    "# largest to smallest\n",
    "# Each pair is (user_id, num_friends):\n",
    "# [(1, 3), (2, 3), (3, 3), (5, 3), (8, 3),\n",
    "# (0, 2), (4, 2), (6, 2), (7, 2), (9, 1)]"
   ]
  },
  {
   "cell_type": "code",
   "execution_count": 20,
   "metadata": {},
   "outputs": [
    {
     "name": "stdout",
     "output_type": "stream",
     "text": [
      "[[0, 2, 3, 0, 1, 3], [1, 2, 0, 1, 3, 1, 2, 4], [1, 2, 0, 2, 3, 1, 2, 4], [0, 2, 3, 0, 1, 3, 3, 5], [1, 2, 4, 4, 6, 7], [3, 5, 5, 8, 5, 8], [4, 6, 7, 6, 7, 9], [4, 6, 7, 6, 7, 9], [5, 8, 5, 8, 8], [6, 7, 9]]\n"
     ]
    }
   ],
   "source": [
    "def foaf_ids_bad(user):\n",
    "    return [foaf_id\n",
    "            for friend_id in friendships[user[\"id\"]]\n",
    "            for foaf_id in friendships[friend_id]]\n",
    "print(list(foaf_ids_bad(user) for user in users))"
   ]
  },
  {
   "cell_type": "code",
   "execution_count": null,
   "metadata": {},
   "outputs": [],
   "source": []
  }
 ],
 "metadata": {
  "kernelspec": {
   "display_name": "Python 3",
   "language": "python",
   "name": "python3"
  },
  "language_info": {
   "codemirror_mode": {
    "name": "ipython",
    "version": 3
   },
   "file_extension": ".py",
   "mimetype": "text/x-python",
   "name": "python",
   "nbconvert_exporter": "python",
   "pygments_lexer": "ipython3",
   "version": "3.10.7"
  },
  "orig_nbformat": 4,
  "vscode": {
   "interpreter": {
    "hash": "916dbcbb3f70747c44a77c7bcd40155683ae19c65e1c03b4aa3499c5328201f1"
   }
  }
 },
 "nbformat": 4,
 "nbformat_minor": 2
}
